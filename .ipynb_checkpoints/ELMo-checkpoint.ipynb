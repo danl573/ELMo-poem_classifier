{
 "cells": [
  {
   "cell_type": "markdown",
   "id": "44f7d7d5-13a9-4ce6-b15e-7e3afc68030f",
   "metadata": {},
   "source": [
    "# ELMo Language Model"
   ]
  },
  {
   "cell_type": "markdown",
   "id": "ba222037-356d-4017-91c0-51b488f61d34",
   "metadata": {},
   "source": [
    "The ELMo Language model constists of the following componenets:\n",
    "- The model inputs a sequence of words\n",
    "- Each word is broken down into their respective characters, where each caracter is then one-hot encoded to form a sparse matrix for every word.\n",
    "- Each matrix is then multiplied by a learned embedding matrix to reduce the dimentionality into a dense character matrix\n",
    "- The dense character matrix is then input into a CNN to generate a character-level representation of each of the words in the input sequence\n",
    "- The character-level representations are then input into the 2 bi-directional LSTM layers, to process the input sequence both forwards and backwards\n",
    "- The outputs for each layer is then concatinated and using to get a weighted average of the input embeddings\n",
    "- Final contextualized word embeddings are then obtained the weighted average of the input words with the original word embeddings (those generated with the learned embedding matrix)\n",
    "\n",
    "The use of the CNN over the character matrix allows the model to capture more nuanced relations between characters and words, as well as to be able to process out-of-vocabulary words. After this, the bidirectional language model allows the words in the input sequence to gain context from both directions, rather than just forward. Overall, these components allows the model to capture more complex linguistic phenomena and it has shown through various benchmarks to outperform almost all other existing models at the time."
   ]
  },
  {
   "cell_type": "markdown",
   "id": "703c3712-098f-4fc0-bb23-1c7e2abca63d",
   "metadata": {},
   "source": [
    "## Problem Statement"
   ]
  },
  {
   "cell_type": "markdown",
   "id": "da8636a3-056b-48ff-8caa-8c3789eaa8a7",
   "metadata": {},
   "source": [
    "In this notebook I will create a genre classifier model for poems in order to showcase ELMo using PyTorch. The dataset can be found [here](https://www.kaggle.com/datasets/ramjasmaurya/poem-classification-nlp)"
   ]
  },
  {
   "cell_type": "code",
   "execution_count": null,
   "id": "da89a102-0cb0-4070-ad92-bbed40e43829",
   "metadata": {},
   "outputs": [],
   "source": []
  },
  {
   "cell_type": "code",
   "execution_count": 2,
   "id": "53906853-a114-4829-aa95-935e9c5d4813",
   "metadata": {},
   "outputs": [],
   "source": [
    "import pandas as pd\n",
    "import numpy as np\n",
    "import spacy\n",
    "from tqdm import tqdm\n",
    "import re\n",
    "import time\n",
    "import pickle\n",
    "pd.set_option('display.max_colwidth', 200)"
   ]
  },
  {
   "cell_type": "code",
   "execution_count": 14,
   "id": "7c30b806-516d-467c-8f53-1f5a0af84aeb",
   "metadata": {},
   "outputs": [
    {
     "name": "stdout",
     "output_type": "stream",
     "text": [
      "(150, 2)\n",
      "========\n",
      "   Genre  \\\n",
      "0  Music   \n",
      "1  Music   \n",
      "2  Music   \n",
      "3  Music   \n",
      "4  Music   \n",
      "\n",
      "                                                                                                                                                                                                      Poem  \n",
      "0                                                                                                                                                                                                      NaN  \n",
      "1                In the thick brushthey spend the hottest part of the day,              soaking their hoovesin the trickle of mountain water              the ravine hoardson behalf of the oleander.  ...  \n",
      "2             Storms are generous.                                      Something so easy to surrender to, sitting by the window, and then you step out into the garden you were so bored of,               \n",
      "3   —After Ana Mendieta Did you carry around the matin star? Did you hold forest-fire in one hand? Would you wake to radiate, shimmer, gleam lucero-light? Through the morning would you measure the wi...  \n",
      "4   for Aja Sherrard at 20The portent may itself be memory. —Wallace StevensHow hard to carry scores of adults on your back,not look at them as carrions of need, the distressof what loyalty requires....  \n"
     ]
    }
   ],
   "source": [
    "import pandas as pd\n",
    "import matplotlib.pyplot as plt\n",
    "import seaborn as sns\n",
    "import warnings\n",
    "warnings.filterwarnings('ignore')\n",
    "\n",
    "df_train = pd.read_csv(\"data/poem_train.csv\")\n",
    "df_test = pd.read_csv(\"data/poem_test.csv\")\n",
    "\n",
    "print(df_test.shape)\n",
    "print(\"========\")\n",
    "print(df_train.head())\n",
    "# sns.countplot(train['Genre'])\n",
    "# plt.show()"
   ]
  },
  {
   "cell_type": "code",
   "execution_count": null,
   "id": "eef9b37b-ac1d-4562-a161-a57b9300161a",
   "metadata": {},
   "outputs": [],
   "source": []
  }
 ],
 "metadata": {
  "kernelspec": {
   "display_name": "Python 3 (ipykernel)",
   "language": "python",
   "name": "python3"
  },
  "language_info": {
   "codemirror_mode": {
    "name": "ipython",
    "version": 3
   },
   "file_extension": ".py",
   "mimetype": "text/x-python",
   "name": "python",
   "nbconvert_exporter": "python",
   "pygments_lexer": "ipython3",
   "version": "3.8.16"
  }
 },
 "nbformat": 4,
 "nbformat_minor": 5
}
